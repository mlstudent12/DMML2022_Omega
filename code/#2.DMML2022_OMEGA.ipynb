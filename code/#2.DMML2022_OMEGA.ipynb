{
  "cells": [
    {
      "cell_type": "markdown",
      "metadata": {
        "id": "8ZKqCFFbNZ04"
      },
      "source": [
        "# **Data Mining & Machine Learning 2022 Project**\n",
        "## Group: UNIL_OMEGA \n",
        "### *Detecting the difficulty level of French texts* \n",
        "##### [to go back to the GitHub repository](https://github.com/mlstudent12/DMML2022_Omega)\n",
        "\n",
        "<!--TABLE OF CONTENTS --> \n",
        "<details>\n",
        "  <summary>📂Table of contents </summary>\n",
        "  <ol>\n",
        "    </li>\n",
        "    <li><a href=\"#packages-import\">Packages import</a></li>\n",
        "    <li><a href=\"#loading-data\">Loading the data</a></li>\n",
        "    <li><a href=\"#preparing-data\">Preparing the data</a></li>\n",
        "    <li><a href=\"#methods\">Methods to predict and evaluate the model</a></li>\n",
        "    <li><a href=\"#creation-training\">Creation and training of the model</a></li>\n",
        "    <li><a href=\"#labelling\">Labeling data with our trained model</a></li>\n",
        "  </ol>\n",
        "</details>\n"
      ]
    },
    {
      "cell_type": "markdown",
      "source": [
        "# The model that gave us the best accuracy on Kaggle "
      ],
      "metadata": {
        "id": "lk-o4pn5MAJE"
      }
    },
    {
      "cell_type": "markdown",
      "metadata": {
        "id": "9-14CAdOoinM"
      },
      "source": [
        "## 1. Packages import\n"
      ]
    },
    {
      "cell_type": "markdown",
      "source": [
        "First we import and install some additionnal packages.\n",
        "When running it, you will have an error. You will need to delete the two \"!pip install\" and then click \"restart runtime\" (under runtime). After this you can rerun the code from here. "
      ],
      "metadata": {
        "id": "dN3kTDTRMiC7"
      }
    },
    {
      "cell_type": "code",
      "execution_count": null,
      "metadata": {
        "id": "VPUpF8oApcLU",
        "colab": {
          "base_uri": "https://localhost:8080/"
        },
        "outputId": "f8ce8e04-3e8b-4f21-f5e6-9cf3d3d71020"
      },
      "outputs": [
        {
          "output_type": "stream",
          "name": "stdout",
          "text": [
            "Looking in indexes: https://pypi.org/simple, https://us-python.pkg.dev/colab-wheels/public/simple/\n",
            "Requirement already satisfied: tensorflow_hub in /usr/local/lib/python3.8/dist-packages (0.12.0)\n",
            "Requirement already satisfied: numpy>=1.12.0 in /usr/local/lib/python3.8/dist-packages (from tensorflow_hub) (1.21.6)\n",
            "Requirement already satisfied: protobuf>=3.8.0 in /usr/local/lib/python3.8/dist-packages (from tensorflow_hub) (3.19.6)\n",
            "Looking in indexes: https://pypi.org/simple, https://us-python.pkg.dev/colab-wheels/public/simple/\n",
            "Requirement already satisfied: tensorflow_text in /usr/local/lib/python3.8/dist-packages (2.11.0)\n",
            "Requirement already satisfied: tensorflow-hub>=0.8.0 in /usr/local/lib/python3.8/dist-packages (from tensorflow_text) (0.12.0)\n",
            "Requirement already satisfied: tensorflow<2.12,>=2.11.0 in /usr/local/lib/python3.8/dist-packages (from tensorflow_text) (2.11.0)\n",
            "Requirement already satisfied: grpcio<2.0,>=1.24.3 in /usr/local/lib/python3.8/dist-packages (from tensorflow<2.12,>=2.11.0->tensorflow_text) (1.51.1)\n",
            "Requirement already satisfied: tensorboard<2.12,>=2.11 in /usr/local/lib/python3.8/dist-packages (from tensorflow<2.12,>=2.11.0->tensorflow_text) (2.11.0)\n",
            "Requirement already satisfied: wrapt>=1.11.0 in /usr/local/lib/python3.8/dist-packages (from tensorflow<2.12,>=2.11.0->tensorflow_text) (1.14.1)\n",
            "Requirement already satisfied: packaging in /usr/local/lib/python3.8/dist-packages (from tensorflow<2.12,>=2.11.0->tensorflow_text) (21.3)\n",
            "Requirement already satisfied: libclang>=13.0.0 in /usr/local/lib/python3.8/dist-packages (from tensorflow<2.12,>=2.11.0->tensorflow_text) (14.0.6)\n",
            "Requirement already satisfied: h5py>=2.9.0 in /usr/local/lib/python3.8/dist-packages (from tensorflow<2.12,>=2.11.0->tensorflow_text) (3.1.0)\n",
            "Requirement already satisfied: opt-einsum>=2.3.2 in /usr/local/lib/python3.8/dist-packages (from tensorflow<2.12,>=2.11.0->tensorflow_text) (3.3.0)\n",
            "Requirement already satisfied: typing-extensions>=3.6.6 in /usr/local/lib/python3.8/dist-packages (from tensorflow<2.12,>=2.11.0->tensorflow_text) (4.4.0)\n",
            "Requirement already satisfied: keras<2.12,>=2.11.0 in /usr/local/lib/python3.8/dist-packages (from tensorflow<2.12,>=2.11.0->tensorflow_text) (2.11.0)\n",
            "Requirement already satisfied: tensorflow-io-gcs-filesystem>=0.23.1 in /usr/local/lib/python3.8/dist-packages (from tensorflow<2.12,>=2.11.0->tensorflow_text) (0.28.0)\n",
            "Requirement already satisfied: astunparse>=1.6.0 in /usr/local/lib/python3.8/dist-packages (from tensorflow<2.12,>=2.11.0->tensorflow_text) (1.6.3)\n",
            "Requirement already satisfied: gast<=0.4.0,>=0.2.1 in /usr/local/lib/python3.8/dist-packages (from tensorflow<2.12,>=2.11.0->tensorflow_text) (0.4.0)\n",
            "Requirement already satisfied: google-pasta>=0.1.1 in /usr/local/lib/python3.8/dist-packages (from tensorflow<2.12,>=2.11.0->tensorflow_text) (0.2.0)\n",
            "Requirement already satisfied: numpy>=1.20 in /usr/local/lib/python3.8/dist-packages (from tensorflow<2.12,>=2.11.0->tensorflow_text) (1.21.6)\n",
            "Requirement already satisfied: tensorflow-estimator<2.12,>=2.11.0 in /usr/local/lib/python3.8/dist-packages (from tensorflow<2.12,>=2.11.0->tensorflow_text) (2.11.0)\n",
            "Requirement already satisfied: termcolor>=1.1.0 in /usr/local/lib/python3.8/dist-packages (from tensorflow<2.12,>=2.11.0->tensorflow_text) (2.1.1)\n",
            "Requirement already satisfied: absl-py>=1.0.0 in /usr/local/lib/python3.8/dist-packages (from tensorflow<2.12,>=2.11.0->tensorflow_text) (1.3.0)\n",
            "Requirement already satisfied: protobuf<3.20,>=3.9.2 in /usr/local/lib/python3.8/dist-packages (from tensorflow<2.12,>=2.11.0->tensorflow_text) (3.19.6)\n",
            "Requirement already satisfied: six>=1.12.0 in /usr/local/lib/python3.8/dist-packages (from tensorflow<2.12,>=2.11.0->tensorflow_text) (1.15.0)\n",
            "Requirement already satisfied: flatbuffers>=2.0 in /usr/local/lib/python3.8/dist-packages (from tensorflow<2.12,>=2.11.0->tensorflow_text) (22.12.6)\n",
            "Requirement already satisfied: setuptools in /usr/local/lib/python3.8/dist-packages (from tensorflow<2.12,>=2.11.0->tensorflow_text) (57.4.0)\n",
            "Requirement already satisfied: wheel<1.0,>=0.23.0 in /usr/local/lib/python3.8/dist-packages (from astunparse>=1.6.0->tensorflow<2.12,>=2.11.0->tensorflow_text) (0.38.4)\n",
            "Requirement already satisfied: google-auth<3,>=1.6.3 in /usr/local/lib/python3.8/dist-packages (from tensorboard<2.12,>=2.11->tensorflow<2.12,>=2.11.0->tensorflow_text) (2.15.0)\n",
            "Requirement already satisfied: tensorboard-data-server<0.7.0,>=0.6.0 in /usr/local/lib/python3.8/dist-packages (from tensorboard<2.12,>=2.11->tensorflow<2.12,>=2.11.0->tensorflow_text) (0.6.1)\n",
            "Requirement already satisfied: google-auth-oauthlib<0.5,>=0.4.1 in /usr/local/lib/python3.8/dist-packages (from tensorboard<2.12,>=2.11->tensorflow<2.12,>=2.11.0->tensorflow_text) (0.4.6)\n",
            "Requirement already satisfied: markdown>=2.6.8 in /usr/local/lib/python3.8/dist-packages (from tensorboard<2.12,>=2.11->tensorflow<2.12,>=2.11.0->tensorflow_text) (3.4.1)\n",
            "Requirement already satisfied: tensorboard-plugin-wit>=1.6.0 in /usr/local/lib/python3.8/dist-packages (from tensorboard<2.12,>=2.11->tensorflow<2.12,>=2.11.0->tensorflow_text) (1.8.1)\n",
            "Requirement already satisfied: requests<3,>=2.21.0 in /usr/local/lib/python3.8/dist-packages (from tensorboard<2.12,>=2.11->tensorflow<2.12,>=2.11.0->tensorflow_text) (2.23.0)\n",
            "Requirement already satisfied: werkzeug>=1.0.1 in /usr/local/lib/python3.8/dist-packages (from tensorboard<2.12,>=2.11->tensorflow<2.12,>=2.11.0->tensorflow_text) (1.0.1)\n",
            "Requirement already satisfied: cachetools<6.0,>=2.0.0 in /usr/local/lib/python3.8/dist-packages (from google-auth<3,>=1.6.3->tensorboard<2.12,>=2.11->tensorflow<2.12,>=2.11.0->tensorflow_text) (5.2.0)\n",
            "Requirement already satisfied: pyasn1-modules>=0.2.1 in /usr/local/lib/python3.8/dist-packages (from google-auth<3,>=1.6.3->tensorboard<2.12,>=2.11->tensorflow<2.12,>=2.11.0->tensorflow_text) (0.2.8)\n",
            "Requirement already satisfied: rsa<5,>=3.1.4 in /usr/local/lib/python3.8/dist-packages (from google-auth<3,>=1.6.3->tensorboard<2.12,>=2.11->tensorflow<2.12,>=2.11.0->tensorflow_text) (4.9)\n",
            "Requirement already satisfied: requests-oauthlib>=0.7.0 in /usr/local/lib/python3.8/dist-packages (from google-auth-oauthlib<0.5,>=0.4.1->tensorboard<2.12,>=2.11->tensorflow<2.12,>=2.11.0->tensorflow_text) (1.3.1)\n",
            "Requirement already satisfied: importlib-metadata>=4.4 in /usr/local/lib/python3.8/dist-packages (from markdown>=2.6.8->tensorboard<2.12,>=2.11->tensorflow<2.12,>=2.11.0->tensorflow_text) (5.1.0)\n",
            "Requirement already satisfied: zipp>=0.5 in /usr/local/lib/python3.8/dist-packages (from importlib-metadata>=4.4->markdown>=2.6.8->tensorboard<2.12,>=2.11->tensorflow<2.12,>=2.11.0->tensorflow_text) (3.11.0)\n",
            "Requirement already satisfied: pyasn1<0.5.0,>=0.4.6 in /usr/local/lib/python3.8/dist-packages (from pyasn1-modules>=0.2.1->google-auth<3,>=1.6.3->tensorboard<2.12,>=2.11->tensorflow<2.12,>=2.11.0->tensorflow_text) (0.4.8)\n",
            "Requirement already satisfied: certifi>=2017.4.17 in /usr/local/lib/python3.8/dist-packages (from requests<3,>=2.21.0->tensorboard<2.12,>=2.11->tensorflow<2.12,>=2.11.0->tensorflow_text) (2022.12.7)\n",
            "Requirement already satisfied: chardet<4,>=3.0.2 in /usr/local/lib/python3.8/dist-packages (from requests<3,>=2.21.0->tensorboard<2.12,>=2.11->tensorflow<2.12,>=2.11.0->tensorflow_text) (3.0.4)\n",
            "Requirement already satisfied: idna<3,>=2.5 in /usr/local/lib/python3.8/dist-packages (from requests<3,>=2.21.0->tensorboard<2.12,>=2.11->tensorflow<2.12,>=2.11.0->tensorflow_text) (2.10)\n",
            "Requirement already satisfied: urllib3!=1.25.0,!=1.25.1,<1.26,>=1.21.1 in /usr/local/lib/python3.8/dist-packages (from requests<3,>=2.21.0->tensorboard<2.12,>=2.11->tensorflow<2.12,>=2.11.0->tensorflow_text) (1.24.3)\n",
            "Requirement already satisfied: oauthlib>=3.0.0 in /usr/local/lib/python3.8/dist-packages (from requests-oauthlib>=0.7.0->google-auth-oauthlib<0.5,>=0.4.1->tensorboard<2.12,>=2.11->tensorflow<2.12,>=2.11.0->tensorflow_text) (3.2.2)\n",
            "Requirement already satisfied: pyparsing!=3.0.5,>=2.0.2 in /usr/local/lib/python3.8/dist-packages (from packaging->tensorflow<2.12,>=2.11.0->tensorflow_text) (3.0.9)\n"
          ]
        }
      ],
      "source": [
        "# imporant packages\n",
        "import numpy as np\n",
        "import pandas as pd\n",
        "from sklearn.preprocessing import OrdinalEncoder\n",
        "from google.colab import files\n",
        "import tensorflow as tf\n",
        "from sklearn.model_selection import train_test_split\n",
        "!pip install tensorflow_hub\n",
        "!pip install tensorflow_text\n",
        "import tensorflow_hub as hub\n",
        "import tensorflow_text as text\n",
        "from keras import backend as K\n",
        "\n",
        "# visualisation of data\n",
        "%matplotlib inline\n",
        "import matplotlib.pyplot as plt\n",
        "import seaborn as sns\n",
        "from sklearn.metrics import confusion_matrix"
      ]
    },
    {
      "cell_type": "markdown",
      "metadata": {
        "id": "uCfVoD0lCgQV"
      },
      "source": [
        "## 2. Loading the data"
      ]
    },
    {
      "cell_type": "code",
      "execution_count": null,
      "metadata": {
        "id": "UJ_hnJzSNO2g"
      },
      "outputs": [],
      "source": [
        "df_training = pd.read_csv('https://raw.githubusercontent.com/mlstudent12/DMML2022_Omega/main/data/training_data.csv', index_col=0)\n",
        "df_pred = pd.read_csv('https://raw.githubusercontent.com/mlstudent12/DMML2022_Omega/main/data/unlabelled_test_data.csv', index_col=0)"
      ]
    },
    {
      "cell_type": "markdown",
      "source": [
        "## 3. Preparing the data"
      ],
      "metadata": {
        "id": "ARUolrSr22Nn"
      }
    },
    {
      "cell_type": "markdown",
      "source": [
        "Now, we change our label into numerical values because our model won't accept strings. Since there is ordinal logic on the notation of language complexity, we chose to use ordinal encoder. "
      ],
      "metadata": {
        "id": "1RVzSHuwP9Jg"
      }
    },
    {
      "cell_type": "code",
      "source": [
        "language_level = ['A1', 'A2', 'B1', 'B2', 'C1', 'C2' ]\n",
        "ordinal = OrdinalEncoder(categories = [language_level])\n",
        "ordinal.fit(df_training[['difficulty']])\n",
        "df_training['difficulty'] = ordinal.transform(df_training[['difficulty']])"
      ],
      "metadata": {
        "id": "IAMU8kpsP3ra"
      },
      "execution_count": null,
      "outputs": []
    },
    {
      "cell_type": "markdown",
      "source": [
        "Here, we do the train, test split. We have done the choice to minimise test data in order to train our model on more data (for the kaggle submition, test_size=0.01). This increased our accuracy on Kaggle of 0.02.\n",
        "\n",
        "Here we put 20% in order to have a nice confusion matrix."
      ],
      "metadata": {
        "id": "JhsSkPylRQxO"
      }
    },
    {
      "cell_type": "code",
      "source": [
        "y = tf.keras.utils.to_categorical(df_training['difficulty'].values, num_classes=6)\n",
        "X_train, X_test, y_train, y_test = train_test_split(df_training['sentence'], y, test_size=0.20)"
      ],
      "metadata": {
        "id": "D3ilNz3xRPRU"
      },
      "execution_count": null,
      "outputs": []
    },
    {
      "cell_type": "markdown",
      "source": [
        "We use preprocessor and encoder form the TensorFlow library. We chose multilingual because there is no special one for French. The preprocessor and the encoder convert plain text into the format expected from a BERT model. "
      ],
      "metadata": {
        "id": "tgaF_yJOTE0p"
      }
    },
    {
      "cell_type": "code",
      "source": [
        "preprocessor = hub.KerasLayer(\"https://tfhub.dev/google/universal-sentence-encoder-cmlm/multilingual-preprocess/2\")\n",
        "encoder = hub.KerasLayer(\"https://tfhub.dev/google/universal-sentence-encoder-cmlm/multilingual-base/1\")"
      ],
      "metadata": {
        "id": "KTw76eOBS517",
        "colab": {
          "base_uri": "https://localhost:8080/"
        },
        "outputId": "ba31954f-12f4-4e61-ba22-202767b1e816"
      },
      "execution_count": null,
      "outputs": [
        {
          "output_type": "stream",
          "name": "stderr",
          "text": [
            "WARNING:tensorflow:Please fix your imports. Module tensorflow.python.training.tracking.data_structures has been moved to tensorflow.python.trackable.data_structures. The old module will be deleted in version 2.11.\n"
          ]
        }
      ]
    },
    {
      "cell_type": "markdown",
      "source": [
        "## 4. Methods to predict and evaluate the model"
      ],
      "metadata": {
        "id": "Hbof8HsTXkGv"
      }
    },
    {
      "cell_type": "code",
      "source": [
        "# method to calculate the f1-score\n",
        "def get_f1(y_true, y_pred): #taken from old keras source code\n",
        "    true_positives = K.sum(K.round(K.clip(y_true * y_pred, 0, 1)))\n",
        "    possible_positives = K.sum(K.round(K.clip(y_true, 0, 1)))\n",
        "    predicted_positives = K.sum(K.round(K.clip(y_pred, 0, 1)))\n",
        "    precision = true_positives / (predicted_positives + K.epsilon())\n",
        "    recall = true_positives / (possible_positives + K.epsilon())\n",
        "    f1_val = 2*(precision*recall)/(precision+recall+K.epsilon())\n",
        "    return f1_val\n",
        "# source of this function\n",
        "# https://aakashgoel12.medium.com/how-to-add-user-defined-function-get-f1-score-in-keras-metrics-3013f979ce0d"
      ],
      "metadata": {
        "id": "kfXLwnWh_c0F"
      },
      "execution_count": null,
      "outputs": []
    },
    {
      "cell_type": "code",
      "source": [
        "# method to label unlabelled data\n",
        "def predict_class(reviews):\n",
        "  return [np.argmax(pred) for pred in model.predict(reviews)]"
      ],
      "metadata": {
        "id": "d1X--O1LhD_T"
      },
      "execution_count": null,
      "outputs": []
    },
    {
      "cell_type": "code",
      "source": [
        "# method to go from OrdinalEncoder format to string\n",
        "def format_submit(df):\n",
        "  df=df.drop(['sentence'], axis=1)\n",
        "  df['difficulty'] = df['difficulty'].replace([0], 'A1')\n",
        "  df['difficulty'] = df['difficulty'].replace([1], 'A2')\n",
        "  df['difficulty'] = df['difficulty'].replace([2], 'B1')\n",
        "  df['difficulty'] = df['difficulty'].replace([3], 'B2')\n",
        "  df['difficulty'] = df['difficulty'].replace([4], 'C1')\n",
        "  df['difficulty'] = df['difficulty'].replace([5], 'C2')\n",
        "  return df"
      ],
      "metadata": {
        "id": "6C98h_9RPRoD"
      },
      "execution_count": null,
      "outputs": []
    },
    {
      "cell_type": "markdown",
      "source": [
        "## 5. Creation and training of the model"
      ],
      "metadata": {
        "id": "NKaeddMN5zEO"
      }
    },
    {
      "cell_type": "markdown",
      "source": [
        "Here we create our model. We use \"dense\" layers as there use fixed size input and output. \n",
        "The dropout parameter is used to prevent overfitting."
      ],
      "metadata": {
        "id": "DOffFRSrYAqU"
      }
    },
    {
      "cell_type": "code",
      "source": [
        "i = tf.keras.layers.Input(shape=(), dtype=tf.string, name='text')\n",
        "x = preprocessor(i)\n",
        "x = encoder(x)\n",
        "x = tf.keras.layers.Dropout(0.2, name=\"dropout\")(x['pooled_output'])\n",
        "x = tf.keras.layers.Dense(6, activation='softmax', name=\"output\")(x)\n",
        "\n",
        "model = tf.keras.Model(i, x)"
      ],
      "metadata": {
        "id": "wrltBwlBXfAu",
        "colab": {
          "base_uri": "https://localhost:8080/"
        },
        "outputId": "0b7c0b7e-d6cb-459d-d3bc-b4ec5f05224c"
      },
      "execution_count": null,
      "outputs": [
        {
          "output_type": "stream",
          "name": "stderr",
          "text": [
            "WARNING:tensorflow:From /usr/local/lib/python3.8/dist-packages/tensorflow/python/autograph/pyct/static_analysis/liveness.py:83: Analyzer.lamba_check (from tensorflow.python.autograph.pyct.static_analysis.liveness) is deprecated and will be removed after 2023-09-23.\n",
            "Instructions for updating:\n",
            "Lambda fuctions will be no more assumed to be used in the statement where they are used, or at least in the same block. https://github.com/tensorflow/tensorflow/issues/56089\n"
          ]
        }
      ]
    },
    {
      "cell_type": "markdown",
      "source": [
        "Let's look at what the parameters of our model.\n",
        "\n",
        "*   Epochs: we set the number of epochs to 20, this means the model will make 20 iterations. \n",
        "*   Earlystop_callback: is used to stop the model. It will stop it if during 3 epochs the model does not improve (patience parameter set to 3).\n",
        "*   restore_best_weights = True: it means the model will keep the best iteration in terms of \"val_loss\".\n",
        "\n",
        "\n",
        "*   Adam optimizer: there are many optimizers availible on the Keras library. We tried them and the one that gave us the best accuracy was always Adam. \n",
        "*   categorical_crossentropy: is a loss function used in classification problem when there are more than 3 classes.\n",
        "\n",
        "\n",
        "\n",
        "\n",
        "\n",
        "\n",
        "\n",
        "\n",
        "\n",
        "\n",
        "\n"
      ],
      "metadata": {
        "id": "aauic_9qckSv"
      }
    },
    {
      "cell_type": "code",
      "source": [
        "n_epochs = 20\n",
        "\n",
        "METRICS = [\n",
        "      tf.keras.metrics.CategoricalAccuracy(name=\"accuracy\"),\n",
        "      tf.keras.metrics.Precision(thresholds=None, top_k=None, class_id=None, name=None, dtype=None),\n",
        "      tf.keras.metrics.Recall(thresholds=None, top_k=None, class_id=None, name=None, dtype=None),\n",
        "      get_f1\n",
        "\n",
        "]\n",
        "\n",
        "earlystop_callback = tf.keras.callbacks.EarlyStopping(monitor = \"val_loss\", \n",
        "                                                      patience = 3,\n",
        "                                                      restore_best_weights = True)\n",
        "\n",
        "model.compile(optimizer = \"adam\",\n",
        "              loss = \"categorical_crossentropy\",\n",
        "              metrics = METRICS)\n",
        "\n",
        "model_fit = model.fit(X_train, \n",
        "                      y_train, \n",
        "                      epochs = n_epochs,\n",
        "                      validation_data = (X_test, y_test),\n",
        "                      callbacks = [earlystop_callback])"
      ],
      "metadata": {
        "id": "szGVxzp5bHIO",
        "colab": {
          "base_uri": "https://localhost:8080/"
        },
        "outputId": "0548ceae-f31b-4631-8a46-72f951295066"
      },
      "execution_count": null,
      "outputs": [
        {
          "output_type": "stream",
          "name": "stdout",
          "text": [
            "Epoch 1/20\n",
            "120/120 [==============================] - 81s 445ms/step - loss: 1.5423 - accuracy: 0.3438 - precision: 0.6197 - recall: 0.0344 - get_f1: 0.0621 - val_loss: 1.2794 - val_accuracy: 0.5031 - val_precision: 0.7800 - val_recall: 0.0812 - val_get_f1: 0.1438\n",
            "Epoch 2/20\n",
            "120/120 [==============================] - 51s 425ms/step - loss: 1.2672 - accuracy: 0.4695 - precision: 0.6879 - recall: 0.1492 - get_f1: 0.2393 - val_loss: 1.1703 - val_accuracy: 0.5250 - val_precision: 0.7224 - val_recall: 0.1979 - val_get_f1: 0.3059\n",
            "Epoch 3/20\n",
            "120/120 [==============================] - 49s 411ms/step - loss: 1.1689 - accuracy: 0.5154 - precision: 0.6943 - recall: 0.2247 - get_f1: 0.3356 - val_loss: 1.1297 - val_accuracy: 0.5500 - val_precision: 0.7345 - val_recall: 0.2104 - val_get_f1: 0.3229\n",
            "Epoch 4/20\n",
            "120/120 [==============================] - 49s 412ms/step - loss: 1.1259 - accuracy: 0.5396 - precision: 0.6971 - recall: 0.2625 - get_f1: 0.3772 - val_loss: 1.0979 - val_accuracy: 0.5562 - val_precision: 0.7009 - val_recall: 0.2562 - val_get_f1: 0.3732\n",
            "Epoch 5/20\n",
            "120/120 [==============================] - 49s 405ms/step - loss: 1.0942 - accuracy: 0.5427 - precision: 0.6931 - recall: 0.3000 - get_f1: 0.4153 - val_loss: 1.0981 - val_accuracy: 0.5469 - val_precision: 0.6895 - val_recall: 0.2729 - val_get_f1: 0.3899\n",
            "Epoch 6/20\n",
            "120/120 [==============================] - 50s 416ms/step - loss: 1.0634 - accuracy: 0.5617 - precision: 0.7096 - recall: 0.3201 - get_f1: 0.4378 - val_loss: 1.0756 - val_accuracy: 0.5760 - val_precision: 0.6783 - val_recall: 0.2833 - val_get_f1: 0.3984\n",
            "Epoch 7/20\n",
            "120/120 [==============================] - 51s 429ms/step - loss: 1.0499 - accuracy: 0.5628 - precision: 0.6978 - recall: 0.3380 - get_f1: 0.4510 - val_loss: 1.0621 - val_accuracy: 0.5698 - val_precision: 0.6800 - val_recall: 0.3187 - val_get_f1: 0.4322\n",
            "Epoch 8/20\n",
            "120/120 [==============================] - 50s 418ms/step - loss: 1.0278 - accuracy: 0.5753 - precision: 0.7144 - recall: 0.3641 - get_f1: 0.4795 - val_loss: 1.0547 - val_accuracy: 0.5635 - val_precision: 0.6769 - val_recall: 0.3208 - val_get_f1: 0.4338\n",
            "Epoch 9/20\n",
            "120/120 [==============================] - 50s 414ms/step - loss: 1.0200 - accuracy: 0.5766 - precision: 0.7127 - recall: 0.3760 - get_f1: 0.4891 - val_loss: 1.0550 - val_accuracy: 0.5510 - val_precision: 0.6951 - val_recall: 0.3396 - val_get_f1: 0.4554\n",
            "Epoch 10/20\n",
            "120/120 [==============================] - 50s 421ms/step - loss: 1.0153 - accuracy: 0.5747 - precision: 0.7021 - recall: 0.3917 - get_f1: 0.5002 - val_loss: 1.0530 - val_accuracy: 0.5562 - val_precision: 0.6480 - val_recall: 0.3375 - val_get_f1: 0.4429\n",
            "Epoch 11/20\n",
            "120/120 [==============================] - 50s 416ms/step - loss: 1.0046 - accuracy: 0.5815 - precision: 0.7056 - recall: 0.3919 - get_f1: 0.5014 - val_loss: 1.0578 - val_accuracy: 0.5573 - val_precision: 0.6525 - val_recall: 0.3521 - val_get_f1: 0.4554\n",
            "Epoch 12/20\n",
            "120/120 [==============================] - 51s 429ms/step - loss: 0.9944 - accuracy: 0.5891 - precision: 0.6958 - recall: 0.4062 - get_f1: 0.5104 - val_loss: 1.0472 - val_accuracy: 0.5667 - val_precision: 0.6583 - val_recall: 0.3531 - val_get_f1: 0.4586\n",
            "Epoch 13/20\n",
            "120/120 [==============================] - 50s 414ms/step - loss: 0.9908 - accuracy: 0.5888 - precision: 0.7180 - recall: 0.4190 - get_f1: 0.5267 - val_loss: 1.0482 - val_accuracy: 0.5615 - val_precision: 0.6499 - val_recall: 0.3635 - val_get_f1: 0.4651\n",
            "Epoch 14/20\n",
            "120/120 [==============================] - 50s 418ms/step - loss: 0.9701 - accuracy: 0.6026 - precision: 0.7178 - recall: 0.4201 - get_f1: 0.5270 - val_loss: 1.0568 - val_accuracy: 0.5542 - val_precision: 0.6643 - val_recall: 0.3875 - val_get_f1: 0.4883\n",
            "Epoch 15/20\n",
            "120/120 [==============================] - 51s 422ms/step - loss: 0.9776 - accuracy: 0.6021 - precision: 0.7124 - recall: 0.4310 - get_f1: 0.5337 - val_loss: 1.0763 - val_accuracy: 0.5312 - val_precision: 0.6185 - val_recall: 0.3615 - val_get_f1: 0.4553\n"
          ]
        }
      ]
    },
    {
      "cell_type": "markdown",
      "source": [
        "## 6. Labeling data with our trained model"
      ],
      "metadata": {
        "id": "Yk5zjxdR71tm"
      }
    },
    {
      "cell_type": "markdown",
      "source": [
        "At this point we make the prediction with the model we just trained and give labels to the unlabelled data."
      ],
      "metadata": {
        "id": "96rcHBK6h6iM"
      }
    },
    {
      "cell_type": "code",
      "source": [
        "df_pred[\"difficulty\"] = predict_class(df_pred[\"sentence\"])"
      ],
      "metadata": {
        "id": "dLnzACGOhX8c",
        "colab": {
          "base_uri": "https://localhost:8080/"
        },
        "outputId": "3ef3c8b8-ffda-408b-af04-ebc44db2c579"
      },
      "execution_count": null,
      "outputs": [
        {
          "output_type": "stream",
          "name": "stdout",
          "text": [
            "38/38 [==============================] - 12s 311ms/step\n"
          ]
        }
      ]
    },
    {
      "cell_type": "markdown",
      "source": [
        "Now, we need to change our labels from numerical to stings in order to do our submission on Kaggle. We also droped the sentence row to have the same format as the \"sample_data\""
      ],
      "metadata": {
        "id": "jk0kSjLRiQUV"
      }
    },
    {
      "cell_type": "code",
      "source": [
        "format_submit(df_pred)\n",
        "\n"
      ],
      "metadata": {
        "id": "2zpU3X16hpBC",
        "colab": {
          "base_uri": "https://localhost:8080/",
          "height": 450
        },
        "outputId": "0af49fb8-92cc-43e6-d09b-95dbeb60e1b9"
      },
      "execution_count": null,
      "outputs": [
        {
          "output_type": "execute_result",
          "data": {
            "text/plain": [
              "     difficulty\n",
              "id             \n",
              "0            C2\n",
              "1            A2\n",
              "2            B1\n",
              "3            B1\n",
              "4            C2\n",
              "...         ...\n",
              "1195         B1\n",
              "1196         B1\n",
              "1197         C2\n",
              "1198         B2\n",
              "1199         B2\n",
              "\n",
              "[1200 rows x 1 columns]"
            ],
            "text/html": [
              "\n",
              "  <div id=\"df-72bedbd2-50a7-4b31-a07b-2136a9e5222e\">\n",
              "    <div class=\"colab-df-container\">\n",
              "      <div>\n",
              "<style scoped>\n",
              "    .dataframe tbody tr th:only-of-type {\n",
              "        vertical-align: middle;\n",
              "    }\n",
              "\n",
              "    .dataframe tbody tr th {\n",
              "        vertical-align: top;\n",
              "    }\n",
              "\n",
              "    .dataframe thead th {\n",
              "        text-align: right;\n",
              "    }\n",
              "</style>\n",
              "<table border=\"1\" class=\"dataframe\">\n",
              "  <thead>\n",
              "    <tr style=\"text-align: right;\">\n",
              "      <th></th>\n",
              "      <th>difficulty</th>\n",
              "    </tr>\n",
              "    <tr>\n",
              "      <th>id</th>\n",
              "      <th></th>\n",
              "    </tr>\n",
              "  </thead>\n",
              "  <tbody>\n",
              "    <tr>\n",
              "      <th>0</th>\n",
              "      <td>C2</td>\n",
              "    </tr>\n",
              "    <tr>\n",
              "      <th>1</th>\n",
              "      <td>A2</td>\n",
              "    </tr>\n",
              "    <tr>\n",
              "      <th>2</th>\n",
              "      <td>B1</td>\n",
              "    </tr>\n",
              "    <tr>\n",
              "      <th>3</th>\n",
              "      <td>B1</td>\n",
              "    </tr>\n",
              "    <tr>\n",
              "      <th>4</th>\n",
              "      <td>C2</td>\n",
              "    </tr>\n",
              "    <tr>\n",
              "      <th>...</th>\n",
              "      <td>...</td>\n",
              "    </tr>\n",
              "    <tr>\n",
              "      <th>1195</th>\n",
              "      <td>B1</td>\n",
              "    </tr>\n",
              "    <tr>\n",
              "      <th>1196</th>\n",
              "      <td>B1</td>\n",
              "    </tr>\n",
              "    <tr>\n",
              "      <th>1197</th>\n",
              "      <td>C2</td>\n",
              "    </tr>\n",
              "    <tr>\n",
              "      <th>1198</th>\n",
              "      <td>B2</td>\n",
              "    </tr>\n",
              "    <tr>\n",
              "      <th>1199</th>\n",
              "      <td>B2</td>\n",
              "    </tr>\n",
              "  </tbody>\n",
              "</table>\n",
              "<p>1200 rows × 1 columns</p>\n",
              "</div>\n",
              "      <button class=\"colab-df-convert\" onclick=\"convertToInteractive('df-72bedbd2-50a7-4b31-a07b-2136a9e5222e')\"\n",
              "              title=\"Convert this dataframe to an interactive table.\"\n",
              "              style=\"display:none;\">\n",
              "        \n",
              "  <svg xmlns=\"http://www.w3.org/2000/svg\" height=\"24px\"viewBox=\"0 0 24 24\"\n",
              "       width=\"24px\">\n",
              "    <path d=\"M0 0h24v24H0V0z\" fill=\"none\"/>\n",
              "    <path d=\"M18.56 5.44l.94 2.06.94-2.06 2.06-.94-2.06-.94-.94-2.06-.94 2.06-2.06.94zm-11 1L8.5 8.5l.94-2.06 2.06-.94-2.06-.94L8.5 2.5l-.94 2.06-2.06.94zm10 10l.94 2.06.94-2.06 2.06-.94-2.06-.94-.94-2.06-.94 2.06-2.06.94z\"/><path d=\"M17.41 7.96l-1.37-1.37c-.4-.4-.92-.59-1.43-.59-.52 0-1.04.2-1.43.59L10.3 9.45l-7.72 7.72c-.78.78-.78 2.05 0 2.83L4 21.41c.39.39.9.59 1.41.59.51 0 1.02-.2 1.41-.59l7.78-7.78 2.81-2.81c.8-.78.8-2.07 0-2.86zM5.41 20L4 18.59l7.72-7.72 1.47 1.35L5.41 20z\"/>\n",
              "  </svg>\n",
              "      </button>\n",
              "      \n",
              "  <style>\n",
              "    .colab-df-container {\n",
              "      display:flex;\n",
              "      flex-wrap:wrap;\n",
              "      gap: 12px;\n",
              "    }\n",
              "\n",
              "    .colab-df-convert {\n",
              "      background-color: #E8F0FE;\n",
              "      border: none;\n",
              "      border-radius: 50%;\n",
              "      cursor: pointer;\n",
              "      display: none;\n",
              "      fill: #1967D2;\n",
              "      height: 32px;\n",
              "      padding: 0 0 0 0;\n",
              "      width: 32px;\n",
              "    }\n",
              "\n",
              "    .colab-df-convert:hover {\n",
              "      background-color: #E2EBFA;\n",
              "      box-shadow: 0px 1px 2px rgba(60, 64, 67, 0.3), 0px 1px 3px 1px rgba(60, 64, 67, 0.15);\n",
              "      fill: #174EA6;\n",
              "    }\n",
              "\n",
              "    [theme=dark] .colab-df-convert {\n",
              "      background-color: #3B4455;\n",
              "      fill: #D2E3FC;\n",
              "    }\n",
              "\n",
              "    [theme=dark] .colab-df-convert:hover {\n",
              "      background-color: #434B5C;\n",
              "      box-shadow: 0px 1px 3px 1px rgba(0, 0, 0, 0.15);\n",
              "      filter: drop-shadow(0px 1px 2px rgba(0, 0, 0, 0.3));\n",
              "      fill: #FFFFFF;\n",
              "    }\n",
              "  </style>\n",
              "\n",
              "      <script>\n",
              "        const buttonEl =\n",
              "          document.querySelector('#df-72bedbd2-50a7-4b31-a07b-2136a9e5222e button.colab-df-convert');\n",
              "        buttonEl.style.display =\n",
              "          google.colab.kernel.accessAllowed ? 'block' : 'none';\n",
              "\n",
              "        async function convertToInteractive(key) {\n",
              "          const element = document.querySelector('#df-72bedbd2-50a7-4b31-a07b-2136a9e5222e');\n",
              "          const dataTable =\n",
              "            await google.colab.kernel.invokeFunction('convertToInteractive',\n",
              "                                                     [key], {});\n",
              "          if (!dataTable) return;\n",
              "\n",
              "          const docLinkHtml = 'Like what you see? Visit the ' +\n",
              "            '<a target=\"_blank\" href=https://colab.research.google.com/notebooks/data_table.ipynb>data table notebook</a>'\n",
              "            + ' to learn more about interactive tables.';\n",
              "          element.innerHTML = '';\n",
              "          dataTable['output_type'] = 'display_data';\n",
              "          await google.colab.output.renderOutput(dataTable, element);\n",
              "          const docLink = document.createElement('div');\n",
              "          docLink.innerHTML = docLinkHtml;\n",
              "          element.appendChild(docLink);\n",
              "        }\n",
              "      </script>\n",
              "    </div>\n",
              "  </div>\n",
              "  "
            ]
          },
          "metadata": {},
          "execution_count": 15
        }
      ]
    },
    {
      "cell_type": "code",
      "source": [
        "y_pred = model.predict(X_test) \n",
        "y_pred_int = np.argmax(y_pred, axis=1)\n",
        "y_test_int = np.argmax(y_test, axis=1) \n",
        "sns.set_style('whitegrid')\n",
        "labels = list(unique_labels(y_test_int, y_pred_int))\n",
        "cfm = confusion_matrix(y_test_int, y_pred_int, labels = labels)\n",
        "fig, ax = plt.subplots(figsize=(6,6))\n",
        "plt.title('Confusion matrix of the model')\n",
        "sns.heatmap(cfm, annot=True, fmt='4g', cmap='PuRd', xticklabels=[\"A1\",\"A2\",\"B1\",\"B2\",\"C1\",\"C2\"], yticklabels=[\"A1\",\"A2\",\"B1\",\"B2\",\"C1\",\"C2\"])\n",
        "plt.ylabel('True labels')\n",
        "plt.xlabel('Predicted labels')\n",
        "plt.show()"
      ],
      "metadata": {
        "colab": {
          "base_uri": "https://localhost:8080/",
          "height": 421
        },
        "id": "FICd2La5r4ag",
        "outputId": "e01a7666-4eef-4a80-9f67-609b5b4bc35d"
      },
      "execution_count": null,
      "outputs": [
        {
          "output_type": "stream",
          "name": "stdout",
          "text": [
            "30/30 [==============================] - 10s 316ms/step\n"
          ]
        },
        {
          "output_type": "display_data",
          "data": {
            "text/plain": [
              "<Figure size 432x432 with 2 Axes>"
            ],
            "image/png": "[encoded data removed]"
          },
          "metadata": {}
        }
      ]
    },
    {
      "cell_type": "markdown",
      "source": [
        "Last step! Lets download our file and import it on Kaggle."
      ],
      "metadata": {
        "id": "T0OKK77wlZus"
      }
    },
    {
      "cell_type": "code",
      "source": [
        "df_pred.to_csv('output_submit.csv', encoding ='utf-8-sig',index=False) \n",
        "files.download('output_submit.csv')"
      ],
      "metadata": {
        "id": "Z8RYZCEBhvac"
      },
      "execution_count": null,
      "outputs": []
    }
  ],
  "metadata": {
    "accelerator": "GPU",
    "colab": {
      "provenance": []
    },
    "gpuClass": "standard",
    "kernelspec": {
      "display_name": "Python 3 (ipykernel)",
      "language": "python",
      "name": "python3"
    },
    "language_info": {
      "codemirror_mode": {
        "name": "ipython",
        "version": 3
      },
      "file_extension": ".py",
      "mimetype": "text/x-python",
      "name": "python",
      "nbconvert_exporter": "python",
      "pygments_lexer": "ipython3",
      "version": "3.8.12"
    },
    "toc": {
      "base_numbering": 1,
      "nav_menu": {},
      "number_sections": true,
      "sideBar": true,
      "skip_h1_title": false,
      "title_cell": "Table of Contents",
      "title_sidebar": "Contents",
      "toc_cell": false,
      "toc_position": {},
      "toc_section_display": true,
      "toc_window_display": false
    }
  },
  "nbformat": 4,
  "nbformat_minor": 0
}