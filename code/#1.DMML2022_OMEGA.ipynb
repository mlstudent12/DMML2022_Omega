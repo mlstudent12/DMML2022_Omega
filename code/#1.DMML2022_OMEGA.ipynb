{
  "cells": [
    {
      "cell_type": "markdown",
      "metadata": {
        "id": "8ZKqCFFbNZ04"
      },
      "source": [
        "# **Data Mining & Machine Learning 2022 Project**\n",
        "## Group: UNIL_OMEGA \n",
        "### *Detecting the difficulty level of French texts* \n",
        "##### [to go back to the GitHub repository](https://github.com/mlstudent12/DMML2022_Omega)\n",
        "\n",
        "<!--TABLE OF CONTENTS --> \n",
        "<details>\n",
        "  <summary>📂Table of contents </summary>\n",
        "  <ol>\n",
        "    </li>\n",
        "    <li><a href=\"#packages-import\">Packages import</a></li>\n",
        "    <li><a href=\"#loading-data\">Loading the data</a></li>\n",
        "    <li><a href=\"#look-at-data\">Let's have a look at the data</a></li>\n",
        "    <li><a href=\"#preparing-data\">Preparing the data</a></li>\n",
        "    <li><a href=\"#methods\">Methods to generate and evaluate the models</a></li>\n",
        "    <li><a href=\"#lr\">Logistic Regression (without data claeaning)</a></li>\n",
        "    <li><a href=\"#KNN\">KNN (without data cleaning)</a></li>\n",
        "    <li><a href=\"#tree\">Decision Tree classifier (without data cleaning)</a></li>\n",
        "    <li><a href=\"#rf\">Random Forest Classifier (without data cleaning)</\n",
        "  </ol>\n",
        "</details>\n"
      ]
    },
    {
      "cell_type": "markdown",
      "metadata": {
        "id": "9-14CAdOoinM"
      },
      "source": [
        "## 1. Packages import\n"
      ]
    },
    {
      "cell_type": "code",
      "execution_count": 21,
      "metadata": {
        "id": "VPUpF8oApcLU"
      },
      "outputs": [],
      "source": [
        "# imporant packages\n",
        "%matplotlib inline\n",
        "import numpy as np\n",
        "import matplotlib.pyplot as plt\n",
        "import pandas as pd\n",
        "import seaborn as sns\n",
        "sns.set_style('whitegrid')\n",
        "import string\n",
        "\n",
        "# vectorizer\n",
        "from sklearn.feature_extraction.text import CountVectorizer, TfidfVectorizer\n",
        "\n",
        "# classifiers\n",
        "from sklearn.linear_model import LogisticRegression, LogisticRegressionCV\n",
        "from sklearn.neighbors import KNeighborsClassifier\n",
        "from sklearn.model_selection import GridSearchCV\n",
        "from sklearn.tree import DecisionTreeClassifier, plot_tree\n",
        "from sklearn.ensemble import RandomForestClassifier\n",
        "\n",
        "# evaluation\n",
        "from sklearn.metrics import confusion_matrix, accuracy_score, precision_score, recall_score, f1_score, ConfusionMatrixDisplay\n",
        "from sklearn.utils.multiclass import unique_labels\n",
        "\n",
        "# pipeline\n",
        "from sklearn.pipeline import Pipeline\n",
        "\n",
        "# train and test split\n",
        "from sklearn.model_selection import train_test_split"
      ]
    },
    {
      "cell_type": "markdown",
      "metadata": {
        "id": "uCfVoD0lCgQV"
      },
      "source": [
        "## 2. Loading the data"
      ]
    },
    {
      "cell_type": "code",
      "execution_count": 22,
      "metadata": {
        "id": "UJ_hnJzSNO2g"
      },
      "outputs": [],
      "source": [
        "# loading the data\n",
        "df_training = pd.read_csv('https://raw.githubusercontent.com/mlstudent12/DMML2022_Omega/main/data/training_data.csv', index_col=0)\n",
        "df_pred = pd.read_csv('https://raw.githubusercontent.com/mlstudent12/DMML2022_Omega/main/data/unlabelled_test_data.csv', index_col=0)"
      ]
    },
    {
      "cell_type": "markdown",
      "source": [
        "## 3. Let's have a look at the data"
      ],
      "metadata": {
        "id": "WO-6oiEhbZKN"
      }
    },
    {
      "cell_type": "code",
      "source": [
        "# first 5 rows of the training data\n",
        "df_training.head()"
      ],
      "metadata": {
        "id": "nWjfifqbG7ch",
        "colab": {
          "base_uri": "https://localhost:8080/",
          "height": 0
        },
        "outputId": "612e54f6-9d82-484c-8e3b-00e6123f2564"
      },
      "execution_count": 23,
      "outputs": [
        {
          "output_type": "execute_result",
          "data": {
            "text/plain": [
              "                                             sentence difficulty\n",
              "id                                                              \n",
              "0   Les coûts kilométriques réels peuvent diverger...         C1\n",
              "1   Le bleu, c'est ma couleur préférée mais je n'a...         A1\n",
              "2   Le test de niveau en français est sur le site ...         A1\n",
              "3            Est-ce que ton mari est aussi de Boston?         A1\n",
              "4   Dans les écoles de commerce, dans les couloirs...         B1"
            ],
            "text/html": [
              "\n",
              "  <div id=\"df-ea1ca60b-cfe9-4e1f-a6cf-2261a6acd68d\">\n",
              "    <div class=\"colab-df-container\">\n",
              "      <div>\n",
              "<style scoped>\n",
              "    .dataframe tbody tr th:only-of-type {\n",
              "        vertical-align: middle;\n",
              "    }\n",
              "\n",
              "    .dataframe tbody tr th {\n",
              "        vertical-align: top;\n",
              "    }\n",
              "\n",
              "    .dataframe thead th {\n",
              "        text-align: right;\n",
              "    }\n",
              "</style>\n",
              "<table border=\"1\" class=\"dataframe\">\n",
              "  <thead>\n",
              "    <tr style=\"text-align: right;\">\n",
              "      <th></th>\n",
              "      <th>sentence</th>\n",
              "      <th>difficulty</th>\n",
              "    </tr>\n",
              "    <tr>\n",
              "      <th>id</th>\n",
              "      <th></th>\n",
              "      <th></th>\n",
              "    </tr>\n",
              "  </thead>\n",
              "  <tbody>\n",
              "    <tr>\n",
              "      <th>0</th>\n",
              "      <td>Les coûts kilométriques réels peuvent diverger...</td>\n",
              "      <td>C1</td>\n",
              "    </tr>\n",
              "    <tr>\n",
              "      <th>1</th>\n",
              "      <td>Le bleu, c'est ma couleur préférée mais je n'a...</td>\n",
              "      <td>A1</td>\n",
              "    </tr>\n",
              "    <tr>\n",
              "      <th>2</th>\n",
              "      <td>Le test de niveau en français est sur le site ...</td>\n",
              "      <td>A1</td>\n",
              "    </tr>\n",
              "    <tr>\n",
              "      <th>3</th>\n",
              "      <td>Est-ce que ton mari est aussi de Boston?</td>\n",
              "      <td>A1</td>\n",
              "    </tr>\n",
              "    <tr>\n",
              "      <th>4</th>\n",
              "      <td>Dans les écoles de commerce, dans les couloirs...</td>\n",
              "      <td>B1</td>\n",
              "    </tr>\n",
              "  </tbody>\n",
              "</table>\n",
              "</div>\n",
              "      <button class=\"colab-df-convert\" onclick=\"convertToInteractive('df-ea1ca60b-cfe9-4e1f-a6cf-2261a6acd68d')\"\n",
              "              title=\"Convert this dataframe to an interactive table.\"\n",
              "              style=\"display:none;\">\n",
              "        \n",
              "  <svg xmlns=\"http://www.w3.org/2000/svg\" height=\"24px\"viewBox=\"0 0 24 24\"\n",
              "       width=\"24px\">\n",
              "    <path d=\"M0 0h24v24H0V0z\" fill=\"none\"/>\n",
              "    <path d=\"M18.56 5.44l.94 2.06.94-2.06 2.06-.94-2.06-.94-.94-2.06-.94 2.06-2.06.94zm-11 1L8.5 8.5l.94-2.06 2.06-.94-2.06-.94L8.5 2.5l-.94 2.06-2.06.94zm10 10l.94 2.06.94-2.06 2.06-.94-2.06-.94-.94-2.06-.94 2.06-2.06.94z\"/><path d=\"M17.41 7.96l-1.37-1.37c-.4-.4-.92-.59-1.43-.59-.52 0-1.04.2-1.43.59L10.3 9.45l-7.72 7.72c-.78.78-.78 2.05 0 2.83L4 21.41c.39.39.9.59 1.41.59.51 0 1.02-.2 1.41-.59l7.78-7.78 2.81-2.81c.8-.78.8-2.07 0-2.86zM5.41 20L4 18.59l7.72-7.72 1.47 1.35L5.41 20z\"/>\n",
              "  </svg>\n",
              "      </button>\n",
              "      \n",
              "  <style>\n",
              "    .colab-df-container {\n",
              "      display:flex;\n",
              "      flex-wrap:wrap;\n",
              "      gap: 12px;\n",
              "    }\n",
              "\n",
              "    .colab-df-convert {\n",
              "      background-color: #E8F0FE;\n",
              "      border: none;\n",
              "      border-radius: 50%;\n",
              "      cursor: pointer;\n",
              "      display: none;\n",
              "      fill: #1967D2;\n",
              "      height: 32px;\n",
              "      padding: 0 0 0 0;\n",
              "      width: 32px;\n",
              "    }\n",
              "\n",
              "    .colab-df-convert:hover {\n",
              "      background-color: #E2EBFA;\n",
              "      box-shadow: 0px 1px 2px rgba(60, 64, 67, 0.3), 0px 1px 3px 1px rgba(60, 64, 67, 0.15);\n",
              "      fill: #174EA6;\n",
              "    }\n",
              "\n",
              "    [theme=dark] .colab-df-convert {\n",
              "      background-color: #3B4455;\n",
              "      fill: #D2E3FC;\n",
              "    }\n",
              "\n",
              "    [theme=dark] .colab-df-convert:hover {\n",
              "      background-color: #434B5C;\n",
              "      box-shadow: 0px 1px 3px 1px rgba(0, 0, 0, 0.15);\n",
              "      filter: drop-shadow(0px 1px 2px rgba(0, 0, 0, 0.3));\n",
              "      fill: #FFFFFF;\n",
              "    }\n",
              "  </style>\n",
              "\n",
              "      <script>\n",
              "        const buttonEl =\n",
              "          document.querySelector('#df-ea1ca60b-cfe9-4e1f-a6cf-2261a6acd68d button.colab-df-convert');\n",
              "        buttonEl.style.display =\n",
              "          google.colab.kernel.accessAllowed ? 'block' : 'none';\n",
              "\n",
              "        async function convertToInteractive(key) {\n",
              "          const element = document.querySelector('#df-ea1ca60b-cfe9-4e1f-a6cf-2261a6acd68d');\n",
              "          const dataTable =\n",
              "            await google.colab.kernel.invokeFunction('convertToInteractive',\n",
              "                                                     [key], {});\n",
              "          if (!dataTable) return;\n",
              "\n",
              "          const docLinkHtml = 'Like what you see? Visit the ' +\n",
              "            '<a target=\"_blank\" href=https://colab.research.google.com/notebooks/data_table.ipynb>data table notebook</a>'\n",
              "            + ' to learn more about interactive tables.';\n",
              "          element.innerHTML = '';\n",
              "          dataTable['output_type'] = 'display_data';\n",
              "          await google.colab.output.renderOutput(dataTable, element);\n",
              "          const docLink = document.createElement('div');\n",
              "          docLink.innerHTML = docLinkHtml;\n",
              "          element.appendChild(docLink);\n",
              "        }\n",
              "      </script>\n",
              "    </div>\n",
              "  </div>\n",
              "  "
            ]
          },
          "metadata": {},
          "execution_count": 23
        }
      ]
    },
    {
      "cell_type": "code",
      "source": [
        "# training data columns information\n",
        "df_training.info()"
      ],
      "metadata": {
        "id": "ZSjI0zP32nVS",
        "colab": {
          "base_uri": "https://localhost:8080/"
        },
        "outputId": "7a0ec019-0296-42fb-e5cb-0add3a8b7728"
      },
      "execution_count": 24,
      "outputs": [
        {
          "output_type": "stream",
          "name": "stdout",
          "text": [
            "<class 'pandas.core.frame.DataFrame'>\n",
            "Int64Index: 4800 entries, 0 to 4799\n",
            "Data columns (total 2 columns):\n",
            " #   Column      Non-Null Count  Dtype \n",
            "---  ------      --------------  ----- \n",
            " 0   sentence    4800 non-null   object\n",
            " 1   difficulty  4800 non-null   object\n",
            "dtypes: object(2)\n",
            "memory usage: 112.5+ KB\n"
          ]
        }
      ]
    },
    {
      "cell_type": "code",
      "execution_count": 25,
      "metadata": {
        "id": "7G75Q1gRj49l",
        "colab": {
          "base_uri": "https://localhost:8080/",
          "height": 0
        },
        "outputId": "4f4dc460-e423-4723-9ebd-6c025de8ffbe"
      },
      "outputs": [
        {
          "output_type": "execute_result",
          "data": {
            "text/plain": [
              "                                             sentence\n",
              "id                                                   \n",
              "0   Nous dûmes nous excuser des propos que nous eû...\n",
              "1   Vous ne pouvez pas savoir le plaisir que j'ai ...\n",
              "2   Et, paradoxalement, boire froid n'est pas la b...\n",
              "3   Ce n'est pas étonnant, car c'est une saison my...\n",
              "4   Le corps de Golo lui-même, d'une essence aussi..."
            ],
            "text/html": [
              "\n",
              "  <div id=\"df-a8a31ffb-8d59-4b8c-bb9b-c92af5f80591\">\n",
              "    <div class=\"colab-df-container\">\n",
              "      <div>\n",
              "<style scoped>\n",
              "    .dataframe tbody tr th:only-of-type {\n",
              "        vertical-align: middle;\n",
              "    }\n",
              "\n",
              "    .dataframe tbody tr th {\n",
              "        vertical-align: top;\n",
              "    }\n",
              "\n",
              "    .dataframe thead th {\n",
              "        text-align: right;\n",
              "    }\n",
              "</style>\n",
              "<table border=\"1\" class=\"dataframe\">\n",
              "  <thead>\n",
              "    <tr style=\"text-align: right;\">\n",
              "      <th></th>\n",
              "      <th>sentence</th>\n",
              "    </tr>\n",
              "    <tr>\n",
              "      <th>id</th>\n",
              "      <th></th>\n",
              "    </tr>\n",
              "  </thead>\n",
              "  <tbody>\n",
              "    <tr>\n",
              "      <th>0</th>\n",
              "      <td>Nous dûmes nous excuser des propos que nous eû...</td>\n",
              "    </tr>\n",
              "    <tr>\n",
              "      <th>1</th>\n",
              "      <td>Vous ne pouvez pas savoir le plaisir que j'ai ...</td>\n",
              "    </tr>\n",
              "    <tr>\n",
              "      <th>2</th>\n",
              "      <td>Et, paradoxalement, boire froid n'est pas la b...</td>\n",
              "    </tr>\n",
              "    <tr>\n",
              "      <th>3</th>\n",
              "      <td>Ce n'est pas étonnant, car c'est une saison my...</td>\n",
              "    </tr>\n",
              "    <tr>\n",
              "      <th>4</th>\n",
              "      <td>Le corps de Golo lui-même, d'une essence aussi...</td>\n",
              "    </tr>\n",
              "  </tbody>\n",
              "</table>\n",
              "</div>\n",
              "      <button class=\"colab-df-convert\" onclick=\"convertToInteractive('df-a8a31ffb-8d59-4b8c-bb9b-c92af5f80591')\"\n",
              "              title=\"Convert this dataframe to an interactive table.\"\n",
              "              style=\"display:none;\">\n",
              "        \n",
              "  <svg xmlns=\"http://www.w3.org/2000/svg\" height=\"24px\"viewBox=\"0 0 24 24\"\n",
              "       width=\"24px\">\n",
              "    <path d=\"M0 0h24v24H0V0z\" fill=\"none\"/>\n",
              "    <path d=\"M18.56 5.44l.94 2.06.94-2.06 2.06-.94-2.06-.94-.94-2.06-.94 2.06-2.06.94zm-11 1L8.5 8.5l.94-2.06 2.06-.94-2.06-.94L8.5 2.5l-.94 2.06-2.06.94zm10 10l.94 2.06.94-2.06 2.06-.94-2.06-.94-.94-2.06-.94 2.06-2.06.94z\"/><path d=\"M17.41 7.96l-1.37-1.37c-.4-.4-.92-.59-1.43-.59-.52 0-1.04.2-1.43.59L10.3 9.45l-7.72 7.72c-.78.78-.78 2.05 0 2.83L4 21.41c.39.39.9.59 1.41.59.51 0 1.02-.2 1.41-.59l7.78-7.78 2.81-2.81c.8-.78.8-2.07 0-2.86zM5.41 20L4 18.59l7.72-7.72 1.47 1.35L5.41 20z\"/>\n",
              "  </svg>\n",
              "      </button>\n",
              "      \n",
              "  <style>\n",
              "    .colab-df-container {\n",
              "      display:flex;\n",
              "      flex-wrap:wrap;\n",
              "      gap: 12px;\n",
              "    }\n",
              "\n",
              "    .colab-df-convert {\n",
              "      background-color: #E8F0FE;\n",
              "      border: none;\n",
              "      border-radius: 50%;\n",
              "      cursor: pointer;\n",
              "      display: none;\n",
              "      fill: #1967D2;\n",
              "      height: 32px;\n",
              "      padding: 0 0 0 0;\n",
              "      width: 32px;\n",
              "    }\n",
              "\n",
              "    .colab-df-convert:hover {\n",
              "      background-color: #E2EBFA;\n",
              "      box-shadow: 0px 1px 2px rgba(60, 64, 67, 0.3), 0px 1px 3px 1px rgba(60, 64, 67, 0.15);\n",
              "      fill: #174EA6;\n",
              "    }\n",
              "\n",
              "    [theme=dark] .colab-df-convert {\n",
              "      background-color: #3B4455;\n",
              "      fill: #D2E3FC;\n",
              "    }\n",
              "\n",
              "    [theme=dark] .colab-df-convert:hover {\n",
              "      background-color: #434B5C;\n",
              "      box-shadow: 0px 1px 3px 1px rgba(0, 0, 0, 0.15);\n",
              "      filter: drop-shadow(0px 1px 2px rgba(0, 0, 0, 0.3));\n",
              "      fill: #FFFFFF;\n",
              "    }\n",
              "  </style>\n",
              "\n",
              "      <script>\n",
              "        const buttonEl =\n",
              "          document.querySelector('#df-a8a31ffb-8d59-4b8c-bb9b-c92af5f80591 button.colab-df-convert');\n",
              "        buttonEl.style.display =\n",
              "          google.colab.kernel.accessAllowed ? 'block' : 'none';\n",
              "\n",
              "        async function convertToInteractive(key) {\n",
              "          const element = document.querySelector('#df-a8a31ffb-8d59-4b8c-bb9b-c92af5f80591');\n",
              "          const dataTable =\n",
              "            await google.colab.kernel.invokeFunction('convertToInteractive',\n",
              "                                                     [key], {});\n",
              "          if (!dataTable) return;\n",
              "\n",
              "          const docLinkHtml = 'Like what you see? Visit the ' +\n",
              "            '<a target=\"_blank\" href=https://colab.research.google.com/notebooks/data_table.ipynb>data table notebook</a>'\n",
              "            + ' to learn more about interactive tables.';\n",
              "          element.innerHTML = '';\n",
              "          dataTable['output_type'] = 'display_data';\n",
              "          await google.colab.output.renderOutput(dataTable, element);\n",
              "          const docLink = document.createElement('div');\n",
              "          docLink.innerHTML = docLinkHtml;\n",
              "          element.appendChild(docLink);\n",
              "        }\n",
              "      </script>\n",
              "    </div>\n",
              "  </div>\n",
              "  "
            ]
          },
          "metadata": {},
          "execution_count": 25
        }
      ],
      "source": [
        "# first 5 rows of the unlabelled data\n",
        "df_pred.head()"
      ]
    },
    {
      "cell_type": "code",
      "source": [
        "# unlabelled data columns information\n",
        "df_pred.info()"
      ],
      "metadata": {
        "id": "R_ogvbX93P-T",
        "colab": {
          "base_uri": "https://localhost:8080/"
        },
        "outputId": "2db14247-e6e4-43e9-9f5f-436a75bf5ecc"
      },
      "execution_count": 26,
      "outputs": [
        {
          "output_type": "stream",
          "name": "stdout",
          "text": [
            "<class 'pandas.core.frame.DataFrame'>\n",
            "Int64Index: 1200 entries, 0 to 1199\n",
            "Data columns (total 1 columns):\n",
            " #   Column    Non-Null Count  Dtype \n",
            "---  ------    --------------  ----- \n",
            " 0   sentence  1200 non-null   object\n",
            "dtypes: object(1)\n",
            "memory usage: 18.8+ KB\n"
          ]
        }
      ]
    },
    {
      "cell_type": "code",
      "source": [
        "# number of obeservations by difficulty level\n",
        "\n",
        "colors = plt.cm.get_cmap('Set3')\n",
        "difficulty_levels = ['A1', 'A2', 'B1', 'B2', 'C1', 'C2']\n",
        "counts = df_training.difficulty.value_counts()\n",
        "counts = counts.reindex(difficulty_levels)\n",
        "counts.plot(kind='bar', color=colors(range(len(difficulty_levels))))\n",
        "\n",
        "for i, count in enumerate(counts):\n",
        "    plt.annotate(str(count), (i, count), xytext=(0, 0), textcoords='offset points', ha='center', va='bottom')\n",
        "\n",
        "plt.xticks(rotation=0)\n",
        "\n",
        "plt.xlabel('Level')\n",
        "plt.ylabel('Observations')\n",
        "plt.title('Number of observations by difficulty level')\n",
        "\n",
        "plt.show() "
      ],
      "metadata": {
        "id": "zet94uzW5-Ml",
        "colab": {
          "base_uri": "https://localhost:8080/",
          "height": 0
        },
        "outputId": "92614aad-ed68-4644-df1b-d4510d3a3b58"
      },
      "execution_count": 27,
      "outputs": [
        {
          "output_type": "display_data",
          "data": {
            "text/plain": [
              "<Figure size 432x288 with 1 Axes>"
            ],
            "image/png": "[encoded data removed]"
          },
          "metadata": {}
        }
      ]
    },
    {
      "cell_type": "code",
      "execution_count": 28,
      "metadata": {
        "id": "PkCqTJNvHgPu",
        "colab": {
          "base_uri": "https://localhost:8080/"
        },
        "outputId": "756e6132-7f41-4ff5-a3c3-3c4618795ef1"
      },
      "outputs": [
        {
          "output_type": "stream",
          "name": "stdout",
          "text": [
            "Baseline = 0.1694\n"
          ]
        }
      ],
      "source": [
        "# baseline\n",
        "value_count = df_training['difficulty'].value_counts()\n",
        "baseline = max(value_count) / len(df_training['difficulty'])\n",
        "print('Baseline = ' + str(round(baseline,4)))"
      ]
    },
    {
      "cell_type": "markdown",
      "source": [
        "## 4. Preparing the data"
      ],
      "metadata": {
        "id": "5jF-1wz4AeXp"
      }
    },
    {
      "cell_type": "code",
      "source": [
        "# split the training data into a train and test set using specific parameters \n",
        "X = df_training['sentence']  # X contains the features we want to analyze \n",
        "y = df_training['difficulty']  # y is the labels we want\n",
        "X_train, X_test, y_train, y_test = train_test_split(X, y, test_size=0.2, random_state=0)"
      ],
      "metadata": {
        "id": "099JIBUmS5-T"
      },
      "execution_count": 29,
      "outputs": []
    },
    {
      "cell_type": "code",
      "execution_count": 30,
      "metadata": {
        "id": "on8U1nKoeNd-"
      },
      "outputs": [],
      "source": [
        "# set a Tfidf vectorizer\n",
        "tfidf_vector = TfidfVectorizer(ngram_range=(1, 1))"
      ]
    },
    {
      "cell_type": "markdown",
      "source": [
        "## 5. Methods to generate and evaluate the models "
      ],
      "metadata": {
        "id": "Hbof8HsTXkGv"
      }
    },
    {
      "cell_type": "code",
      "source": [
        "# method to create a pipeline using Tfidf vectoriser and a classifier\n",
        "def pipeline(classifier):\n",
        "    pipeline = Pipeline([('vectorizer', tfidf_vector), ('classifier', classifier)])\n",
        "    return pipeline"
      ],
      "metadata": {
        "id": "hriiboNhSu0A"
      },
      "execution_count": 31,
      "outputs": []
    },
    {
      "cell_type": "code",
      "source": [
        "# method to fit the models on the training set and make predictions\n",
        "def fit_and_predict(pipeline): \n",
        "  pipeline.fit(X_train, y_train)\n",
        "  y_pred = pipeline.predict(X_test)\n",
        "  return y_pred"
      ],
      "metadata": {
        "id": "MpzI_rOlW9nh"
      },
      "execution_count": 32,
      "outputs": []
    },
    {
      "cell_type": "code",
      "source": [
        "# method to evaluate the models (accuracy, precision, recall, f1-score, confusion matrix)\n",
        "\n",
        "def evaluation(y_test, y_pred):\n",
        "    \n",
        "    # compute and print the evaluation scores on the test set\n",
        "    print('Accuracy = {:.4f}'.format(accuracy_score(y_test, y_pred)))\n",
        "    print('Precision = {:.4f}'.format(precision_score(y_test, y_pred, average='weighted')))\n",
        "    print('Recall = {:.4f}'.format(recall_score(y_test, y_pred, average='weighted')))\n",
        "    print('F1-score = {:.4f}'.format(f1_score(y_test, y_pred, average='weighted')))\n",
        "\n",
        "    # define the labels, plot and display the confusion matrix\n",
        "    labels = list(unique_labels(y_test, y_pred))\n",
        "    cfm = confusion_matrix(y_test, y_pred, labels = labels)\n",
        "    fig, ax = plt.subplots(figsize=(6,6))\n",
        "    plt.title('Confusion matrix of the model')\n",
        "    sns.heatmap(cfm, annot=True, fmt='4g', cmap='PuRd', xticklabels=labels, yticklabels=labels)\n",
        "    plt.ylabel('True labels')\n",
        "    plt.xlabel('Predicted labels')\n",
        "    plt.show()"
      ],
      "metadata": {
        "id": "DXqLENA_Oaxe"
      },
      "execution_count": 33,
      "outputs": []
    },
    {
      "cell_type": "markdown",
      "source": [
        "## 6. Logistic Regression (without data cleaining)"
      ],
      "metadata": {
        "id": "CUR7J0cOfkja"
      }
    },
    {
      "cell_type": "code",
      "source": [
        "# define classifier\n",
        "lr = LogisticRegression(multi_class='multinomial', solver='lbfgs', max_iter=300)\n",
        "\n",
        "# create pipeline\n",
        "pipeline_lr = pipeline(lr)\n",
        "\n",
        "# fit model on training set and make predictions\n",
        "y_pred_lr = fit_and_predict(pipeline_lr)\n",
        "\n",
        "# evaluate the model\n",
        "lr_evaluation = evaluation(y_test, y_pred_lr)"
      ],
      "metadata": {
        "id": "GakWbvN3XLkf",
        "colab": {
          "base_uri": "https://localhost:8080/",
          "height": 473
        },
        "outputId": "b2b7cd5b-c648-47a3-b1c4-6725f8ed52a8"
      },
      "execution_count": 34,
      "outputs": [
        {
          "output_type": "stream",
          "name": "stdout",
          "text": [
            "Accuracy = 0.4667\n",
            "Precision = 0.4656\n",
            "Recall = 0.4667\n",
            "F1-score = 0.4640\n"
          ]
        },
        {
          "output_type": "display_data",
          "data": {
            "text/plain": [
              "<Figure size 432x432 with 2 Axes>"
            ],
            "image/png": "[encoded data removed]"
          },
          "metadata": {}
        }
      ]
    },
    {
      "cell_type": "markdown",
      "source": [
        "## 7. KNN (without data cleaining)"
      ],
      "metadata": {
        "id": "KuCKoOAcgGcw"
      }
    },
    {
      "cell_type": "markdown",
      "source": [
        "#### KNN basic"
      ],
      "metadata": {
        "id": "QNIti6ljxIO9"
      }
    },
    {
      "cell_type": "code",
      "source": [
        "# define classifier\n",
        "knn = KNeighborsClassifier()\n",
        "\n",
        "# create pipeline\n",
        "pipeline_knn = pipeline(knn)\n",
        "\n",
        "# fit model on training set and make predictions\n",
        "y_pred_knn = fit_and_predict(pipeline_knn)\n",
        "\n",
        "# evaluate the model\n",
        "knn_evaluation = evaluation(y_test, y_pred_knn)"
      ],
      "metadata": {
        "id": "QUpke-7dvqow",
        "colab": {
          "base_uri": "https://localhost:8080/",
          "height": 473
        },
        "outputId": "64956f6a-f96c-485b-dae2-0cd50f8e63ac"
      },
      "execution_count": 35,
      "outputs": [
        {
          "output_type": "stream",
          "name": "stdout",
          "text": [
            "Accuracy = 0.3187\n",
            "Precision = 0.4030\n",
            "Recall = 0.3187\n",
            "F1-score = 0.3022\n"
          ]
        },
        {
          "output_type": "display_data",
          "data": {
            "text/plain": [
              "<Figure size 432x432 with 2 Axes>"
            ],
            "image/png": "[encoded data removed]"
          },
          "metadata": {}
        }
      ]
    },
    {
      "cell_type": "markdown",
      "source": [
        "#### KNN improved by tuning the hyperparameters (`n_neighbors`,   `p`, `weights`)"
      ],
      "metadata": {
        "id": "ZhiqRXOvxgbi"
      }
    },
    {
      "cell_type": "code",
      "source": [
        "# find the best hyperparameters\n",
        "grid = {'n_neighbors':np.arange(1,100), 'p':np.arange(1,3), 'weights':['uniform','distance']}\n",
        "\n",
        "# define classifier\n",
        "knn_cv = GridSearchCV(knn, grid, cv=10)\n",
        "\n",
        "# create pipeline\n",
        "pipeline_knn_cv = pipeline(knn_cv)\n",
        "\n",
        "# fit model on training set and make predictions\n",
        "y_pred_knn_cv = fit_and_predict(pipeline_knn_cv)\n",
        "\n",
        "# evaluate the model\n",
        "knn_cv_evaluation = evaluation(y_test, y_pred_knn_cv)\n",
        "\n",
        "# print the hyperparameters\n",
        "print('Hyperparameters: ', knn_cv.best_params_)"
      ],
      "metadata": {
        "id": "fXjYTPrHxyQd",
        "colab": {
          "base_uri": "https://localhost:8080/",
          "height": 491
        },
        "outputId": "03c775f1-339a-404c-bed5-3e1e1a57f687"
      },
      "execution_count": 36,
      "outputs": [
        {
          "output_type": "stream",
          "name": "stdout",
          "text": [
            "Accuracy = 0.3677\n",
            "Precision = 0.4242\n",
            "Recall = 0.3677\n",
            "F1-score = 0.3571\n"
          ]
        },
        {
          "output_type": "display_data",
          "data": {
            "text/plain": [
              "<Figure size 432x432 with 2 Axes>"
            ],
            "image/png": "[encoded data removed]"
          },
          "metadata": {}
        },
        {
          "output_type": "stream",
          "name": "stdout",
          "text": [
            "Hyperparameters:  {'n_neighbors': 4, 'p': 2, 'weights': 'distance'}\n"
          ]
        }
      ]
    },
    {
      "cell_type": "markdown",
      "source": [
        "## 8. Decision Tree Classifier (without data cleaning)"
      ],
      "metadata": {
        "id": "uYjFQALogf5I"
      }
    },
    {
      "cell_type": "markdown",
      "source": [
        "#### Decision Tree Classifier basic"
      ],
      "metadata": {
        "id": "IERWwwR55rUB"
      }
    },
    {
      "cell_type": "code",
      "source": [
        "# define classifier\n",
        "tree = DecisionTreeClassifier()\n",
        "\n",
        "# create pipeline\n",
        "pipeline_tree = pipeline(tree)\n",
        "\n",
        "# fit model on training set and make predictions\n",
        "y_pred_tree = fit_and_predict(pipeline_tree)\n",
        "\n",
        "# evaluate the model\n",
        "tree_evaluation = evaluation(y_test, y_pred_tree)"
      ],
      "metadata": {
        "id": "mozkx2h6jyTt",
        "colab": {
          "base_uri": "https://localhost:8080/",
          "height": 473
        },
        "outputId": "f281cdc7-3206-427e-9de7-61f718a0ba4d"
      },
      "execution_count": 37,
      "outputs": [
        {
          "output_type": "stream",
          "name": "stdout",
          "text": [
            "Accuracy = 0.3010\n",
            "Precision = 0.3028\n",
            "Recall = 0.3010\n",
            "F1-score = 0.2992\n"
          ]
        },
        {
          "output_type": "display_data",
          "data": {
            "text/plain": [
              "<Figure size 432x432 with 2 Axes>"
            ],
            "image/png": "[encoded data removed]"
          },
          "metadata": {}
        }
      ]
    },
    {
      "cell_type": "markdown",
      "metadata": {
        "id": "yQHjvOp7q11L"
      },
      "source": [
        "#### Decision Tree Classifier improved by tuning the hyperparameters (`max_depth`)"
      ]
    },
    {
      "cell_type": "code",
      "source": [
        "# find the best hyperparameters\n",
        "grid = {'max_depth':np.arange(1,100)}\n",
        "\n",
        "# define classifier\n",
        "tree_cv = GridSearchCV(tree, grid, cv=10)\n",
        "\n",
        "# create pipeline\n",
        "pipeline_tree_cv = pipeline(tree_cv)\n",
        "\n",
        "# fit model on training set and make predictions\n",
        "y_pred_tree_cv = fit_and_predict(pipeline_tree_cv)\n",
        "\n",
        "# evaluate the model\n",
        "tree_cv_evaluation = evaluation(y_test, y_pred_tree_cv)\n",
        "\n",
        "# print the hyperparameters\n",
        "print('Hyperparameters: ', tree_cv.best_params_)"
      ],
      "metadata": {
        "id": "0aw8HL5RHTKE",
        "colab": {
          "base_uri": "https://localhost:8080/",
          "height": 491
        },
        "outputId": "77d37325-58af-4a7c-deb3-8c59fc5d3680"
      },
      "execution_count": 38,
      "outputs": [
        {
          "output_type": "stream",
          "name": "stdout",
          "text": [
            "Accuracy = 0.3073\n",
            "Precision = 0.3118\n",
            "Recall = 0.3073\n",
            "F1-score = 0.3054\n"
          ]
        },
        {
          "output_type": "display_data",
          "data": {
            "text/plain": [
              "<Figure size 432x432 with 2 Axes>"
            ],
            "image/png": "[encoded data removed]"
          },
          "metadata": {}
        },
        {
          "output_type": "stream",
          "name": "stdout",
          "text": [
            "Hyperparameters:  {'max_depth': 77}\n"
          ]
        }
      ]
    },
    {
      "cell_type": "markdown",
      "source": [
        "## 9. Random Forest Classifier (without data cleaning)"
      ],
      "metadata": {
        "id": "1KJKwhe5g8iK"
      }
    },
    {
      "cell_type": "code",
      "source": [
        "# define classifier\n",
        "rf = RandomForestClassifier()\n",
        "\n",
        "# create pipeline\n",
        "pipeline_rf = pipeline(rf)\n",
        "\n",
        "# fit model on training set and make predictions\n",
        "y_pred_rf= fit_and_predict(pipeline_rf)\n",
        "\n",
        "# evaluate the model\n",
        "rf_evaluation = evaluation(y_test, y_pred_rf)"
      ],
      "metadata": {
        "id": "wQPdUw7LH3gV",
        "colab": {
          "base_uri": "https://localhost:8080/",
          "height": 473
        },
        "outputId": "962df3a8-e032-4998-8ce6-1c2b4643e8a2"
      },
      "execution_count": 39,
      "outputs": [
        {
          "output_type": "stream",
          "name": "stdout",
          "text": [
            "Accuracy = 0.4146\n",
            "Precision = 0.4216\n",
            "Recall = 0.4146\n",
            "F1-score = 0.3995\n"
          ]
        },
        {
          "output_type": "display_data",
          "data": {
            "text/plain": [
              "<Figure size 432x432 with 2 Axes>"
            ],
            "image/png": "[encoded data removed]"
          },
          "metadata": {}
        }
      ]
    }
  ],
  "metadata": {
    "accelerator": "GPU",
    "colab": {
      "provenance": [],
      "collapsed_sections": [
        "9-14CAdOoinM",
        "uCfVoD0lCgQV",
        "WO-6oiEhbZKN",
        "5jF-1wz4AeXp",
        "CUR7J0cOfkja",
        "KuCKoOAcgGcw",
        "uYjFQALogf5I",
        "1KJKwhe5g8iK"
      ]
    },
    "gpuClass": "standard",
    "kernelspec": {
      "display_name": "Python 3 (ipykernel)",
      "language": "python",
      "name": "python3"
    },
    "language_info": {
      "codemirror_mode": {
        "name": "ipython",
        "version": 3
      },
      "file_extension": ".py",
      "mimetype": "text/x-python",
      "name": "python",
      "nbconvert_exporter": "python",
      "pygments_lexer": "ipython3",
      "version": "3.8.12"
    },
    "toc": {
      "base_numbering": 1,
      "nav_menu": {},
      "number_sections": true,
      "sideBar": true,
      "skip_h1_title": false,
      "title_cell": "Table of Contents",
      "title_sidebar": "Contents",
      "toc_cell": false,
      "toc_position": {},
      "toc_section_display": true,
      "toc_window_display": false
    }
  },
  "nbformat": 4,
  "nbformat_minor": 0
}